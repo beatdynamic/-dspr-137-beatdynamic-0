{
  "cells": [
    {
      "attachments": {},
      "cell_type": "markdown",
      "id": "a3a9dfdb",
      "metadata": {},
      "source": [
        "<center> <img src = https://raw.githubusercontent.com/AndreyRysistov/DatasetsForPandas/main/hh%20label.jpg alt=\"drawing\" style=\"width:400px;\">"
      ]
    },
    {
      "attachments": {},
      "cell_type": "markdown",
      "id": "963361ba",
      "metadata": {
        "id": "963361ba"
      },
      "source": [
        "# <center> Проект: Анализ вакансий из HeadHunter"
      ]
    },
    {
      "attachments": {},
      "cell_type": "markdown",
      "id": "BAOI-9wun13V",
      "metadata": {
        "id": "BAOI-9wun13V"
      },
      "source": [
        "Начинаем с импорта библиотек"
      ]
    },
    {
      "cell_type": "code",
      "execution_count": 7,
      "id": "928bd544",
      "metadata": {
        "id": "928bd544"
      },
      "outputs": [],
      "source": [
        "import pandas as pd\n",
        "import psycopg2\n",
        "import yaml\n",
        "import sqlalchemy "
      ]
    },
    {
      "attachments": {},
      "cell_type": "markdown",
      "id": "a507ba18",
      "metadata": {},
      "source": [
        "Создаем соединение с заданными параметрами"
      ]
    },
    {
      "cell_type": "code",
      "execution_count": 9,
      "id": "70d84b8f",
      "metadata": {
        "id": "70d84b8f"
      },
      "outputs": [],
      "source": [
        "connection = psycopg2.connect(\n",
        "    dbname=dbname,\n",
        "    user=user,\n",
        "    host=host,\n",
        "    password=password,\n",
        "    port=port\n",
        ")"
      ]
    },
    {
      "attachments": {},
      "cell_type": "markdown",
      "id": "ffe20168",
      "metadata": {},
      "source": [
        "### Предварительный анализ данных"
      ]
    },
    {
      "attachments": {},
      "cell_type": "markdown",
      "id": "06k1EnoRiC-I",
      "metadata": {
        "id": "06k1EnoRiC-I"
      },
      "source": [
        "3.1 Напишите запрос, который посчитает количество вакансий в нашей базе (вакансии находятся в таблице vacancies)."
      ]
    },
    {
      "cell_type": "code",
      "execution_count": 11,
      "id": "b4e93082",
      "metadata": {},
      "outputs": [
        {
          "data": {
            "text/html": [
              "<div>\n",
              "<style scoped>\n",
              "    .dataframe tbody tr th:only-of-type {\n",
              "        vertical-align: middle;\n",
              "    }\n",
              "\n",
              "    .dataframe tbody tr th {\n",
              "        vertical-align: top;\n",
              "    }\n",
              "\n",
              "    .dataframe thead th {\n",
              "        text-align: right;\n",
              "    }\n",
              "</style>\n",
              "<table border=\"1\" class=\"dataframe\">\n",
              "  <thead>\n",
              "    <tr style=\"text-align: right;\">\n",
              "      <th></th>\n",
              "      <th>Кол-во вакансий</th>\n",
              "    </tr>\n",
              "  </thead>\n",
              "  <tbody>\n",
              "    <tr>\n",
              "      <th>0</th>\n",
              "      <td>49197</td>\n",
              "    </tr>\n",
              "  </tbody>\n",
              "</table>\n",
              "</div>"
            ],
            "text/plain": [
              "   Кол-во вакансий\n",
              "0            49197"
            ]
          },
          "execution_count": 11,
          "metadata": {},
          "output_type": "execute_result"
        }
      ],
      "source": [
        "# текст запроса\n",
        "query_3_1 = f'''SELECT COUNT(v.id) AS \"Кол-во вакансий\"\n",
        "                FROM public.vacancies v\n",
        "\n",
        "            '''\n",
        "# используем метод read_sql_query, чтобы получить результаты запроса сразу в виде датафрейма\n",
        "df = pd.read_sql_query(query_3_1, connection)\n",
        "df"
      ]
    },
    {
      "attachments": {},
      "cell_type": "markdown",
      "id": "9d524245",
      "metadata": {},
      "source": [
        "3.2 Напишите запрос, который посчитает количество работодателей (таблица employers)."
      ]
    },
    {
      "cell_type": "code",
      "execution_count": 12,
      "id": "13833b85",
      "metadata": {},
      "outputs": [
        {
          "data": {
            "text/html": [
              "<div>\n",
              "<style scoped>\n",
              "    .dataframe tbody tr th:only-of-type {\n",
              "        vertical-align: middle;\n",
              "    }\n",
              "\n",
              "    .dataframe tbody tr th {\n",
              "        vertical-align: top;\n",
              "    }\n",
              "\n",
              "    .dataframe thead th {\n",
              "        text-align: right;\n",
              "    }\n",
              "</style>\n",
              "<table border=\"1\" class=\"dataframe\">\n",
              "  <thead>\n",
              "    <tr style=\"text-align: right;\">\n",
              "      <th></th>\n",
              "      <th>Кол-во работодателей</th>\n",
              "    </tr>\n",
              "  </thead>\n",
              "  <tbody>\n",
              "    <tr>\n",
              "      <th>0</th>\n",
              "      <td>23501</td>\n",
              "    </tr>\n",
              "  </tbody>\n",
              "</table>\n",
              "</div>"
            ],
            "text/plain": [
              "   Кол-во работодателей\n",
              "0                 23501"
            ]
          },
          "execution_count": 12,
          "metadata": {},
          "output_type": "execute_result"
        }
      ],
      "source": [
        "query_3_2 = f'''\n",
        "    SELECT COUNT(name) AS \"Кол-во работодателей\"\n",
        "    FROM public.employers\n",
        "    '''\n",
        "\n",
        "df = pd.read_sql_query(query_3_2, connection)\n",
        "df"
      ]
    },
    {
      "attachments": {},
      "cell_type": "markdown",
      "id": "228127ce",
      "metadata": {},
      "source": [
        "3.3 Напишите запрос, который посчитает количество регионов (таблица areas)."
      ]
    },
    {
      "cell_type": "code",
      "execution_count": 13,
      "id": "dc247eae",
      "metadata": {},
      "outputs": [
        {
          "data": {
            "text/html": [
              "<div>\n",
              "<style scoped>\n",
              "    .dataframe tbody tr th:only-of-type {\n",
              "        vertical-align: middle;\n",
              "    }\n",
              "\n",
              "    .dataframe tbody tr th {\n",
              "        vertical-align: top;\n",
              "    }\n",
              "\n",
              "    .dataframe thead th {\n",
              "        text-align: right;\n",
              "    }\n",
              "</style>\n",
              "<table border=\"1\" class=\"dataframe\">\n",
              "  <thead>\n",
              "    <tr style=\"text-align: right;\">\n",
              "      <th></th>\n",
              "      <th>Кол-во регионов</th>\n",
              "    </tr>\n",
              "  </thead>\n",
              "  <tbody>\n",
              "    <tr>\n",
              "      <th>0</th>\n",
              "      <td>1362</td>\n",
              "    </tr>\n",
              "  </tbody>\n",
              "</table>\n",
              "</div>"
            ],
            "text/plain": [
              "   Кол-во регионов\n",
              "0             1362"
            ]
          },
          "execution_count": 13,
          "metadata": {},
          "output_type": "execute_result"
        }
      ],
      "source": [
        "query_3_3 = f'''\n",
        "    SELECT COUNT(name) AS \"Кол-во регионов\"\n",
        "    FROM public.areas\n",
        "    '''\n",
        "    \n",
        "df = pd.read_sql_query(query_3_3, connection)\n",
        "df"
      ]
    },
    {
      "attachments": {},
      "cell_type": "markdown",
      "id": "cc49487e",
      "metadata": {},
      "source": [
        "3.4 Напишите запрос, который посчитает количество сфер деятельности (таблица industries)."
      ]
    },
    {
      "cell_type": "code",
      "execution_count": 14,
      "id": "a31bbe8d",
      "metadata": {},
      "outputs": [
        {
          "data": {
            "text/html": [
              "<div>\n",
              "<style scoped>\n",
              "    .dataframe tbody tr th:only-of-type {\n",
              "        vertical-align: middle;\n",
              "    }\n",
              "\n",
              "    .dataframe tbody tr th {\n",
              "        vertical-align: top;\n",
              "    }\n",
              "\n",
              "    .dataframe thead th {\n",
              "        text-align: right;\n",
              "    }\n",
              "</style>\n",
              "<table border=\"1\" class=\"dataframe\">\n",
              "  <thead>\n",
              "    <tr style=\"text-align: right;\">\n",
              "      <th></th>\n",
              "      <th>Кол-во сфер деятельности</th>\n",
              "    </tr>\n",
              "  </thead>\n",
              "  <tbody>\n",
              "    <tr>\n",
              "      <th>0</th>\n",
              "      <td>294</td>\n",
              "    </tr>\n",
              "  </tbody>\n",
              "</table>\n",
              "</div>"
            ],
            "text/plain": [
              "   Кол-во сфер деятельности\n",
              "0                       294"
            ]
          },
          "execution_count": 14,
          "metadata": {},
          "output_type": "execute_result"
        }
      ],
      "source": [
        "query_3_4 = f'''\n",
        "    SELECT COUNT(name) AS \"Кол-во сфер деятельности\"\n",
        "    FROM public.industries\n",
        "    '''\n",
        "    \n",
        "df = pd.read_sql_query(query_3_4, connection)\n",
        "df"
      ]
    },
    {
      "attachments": {},
      "cell_type": "markdown",
      "id": "ac99ac74",
      "metadata": {},
      "source": [
        "#### Выводы по предварительному анализу данных:\n",
        "- База данных содержит достаточно большое количество вакансий (49197). Это может указывать на активность рынка труда и наличие разнообразных возможностей для соискателей.\n",
        "- Количество работодателей в базе составляет 23501. Это означает, что на рынке труда представлено большое количество компаний и организаций, которые предлагают вакансии.\n",
        "- В базе данных содержится информация о 1362 регионах. Это указывает на географическое разнообразие вакансий и возможности трудоустройства в различных местах.\n",
        "- Сферы деятельности представлены в базе данных 294. Это свидетельствует о разнообразии отраслей и секторов экономики, в которых существуют вакансии."
      ]
    },
    {
      "attachments": {},
      "cell_type": "markdown",
      "id": "75787d07",
      "metadata": {},
      "source": [
        "### Детальный анализ вакансий"
      ]
    },
    {
      "attachments": {},
      "cell_type": "markdown",
      "id": "43003813",
      "metadata": {},
      "source": [
        "4.1 Напишите запрос, который позволит узнать, сколько (cnt) вакансий в каждом регионе (area)."
      ]
    },
    {
      "cell_type": "code",
      "execution_count": 15,
      "id": "00aaaa4e",
      "metadata": {},
      "outputs": [
        {
          "data": {
            "text/html": [
              "<div>\n",
              "<style scoped>\n",
              "    .dataframe tbody tr th:only-of-type {\n",
              "        vertical-align: middle;\n",
              "    }\n",
              "\n",
              "    .dataframe tbody tr th {\n",
              "        vertical-align: top;\n",
              "    }\n",
              "\n",
              "    .dataframe thead th {\n",
              "        text-align: right;\n",
              "    }\n",
              "</style>\n",
              "<table border=\"1\" class=\"dataframe\">\n",
              "  <thead>\n",
              "    <tr style=\"text-align: right;\">\n",
              "      <th></th>\n",
              "      <th>cnt</th>\n",
              "      <th>area</th>\n",
              "    </tr>\n",
              "  </thead>\n",
              "  <tbody>\n",
              "    <tr>\n",
              "      <th>0</th>\n",
              "      <td>5333</td>\n",
              "      <td>Москва</td>\n",
              "    </tr>\n",
              "    <tr>\n",
              "      <th>1</th>\n",
              "      <td>2851</td>\n",
              "      <td>Санкт-Петербург</td>\n",
              "    </tr>\n",
              "    <tr>\n",
              "      <th>2</th>\n",
              "      <td>2112</td>\n",
              "      <td>Минск</td>\n",
              "    </tr>\n",
              "    <tr>\n",
              "      <th>3</th>\n",
              "      <td>2006</td>\n",
              "      <td>Новосибирск</td>\n",
              "    </tr>\n",
              "    <tr>\n",
              "      <th>4</th>\n",
              "      <td>1892</td>\n",
              "      <td>Алматы</td>\n",
              "    </tr>\n",
              "  </tbody>\n",
              "</table>\n",
              "</div>"
            ],
            "text/plain": [
              "    cnt             area\n",
              "0  5333           Москва\n",
              "1  2851  Санкт-Петербург\n",
              "2  2112            Минск\n",
              "3  2006      Новосибирск\n",
              "4  1892           Алматы"
            ]
          },
          "execution_count": 15,
          "metadata": {},
          "output_type": "execute_result"
        }
      ],
      "source": [
        "query_4_1 = f'''\n",
        "    SELECT\n",
        "        COUNT(v.id) AS cnt,\n",
        "        a.name AS area\n",
        "    FROM public.vacancies v\n",
        "    JOIN public.areas a ON a.id = v.area_id\n",
        "    GROUP BY 2\n",
        "    ORDER BY 1 DESC\n",
        "    LIMIT 5\n",
        "    '''\n",
        "    \n",
        "df = pd.read_sql_query(query_4_1, connection)\n",
        "df"
      ]
    },
    {
      "attachments": {},
      "cell_type": "markdown",
      "id": "3b7899f7",
      "metadata": {},
      "source": [
        "4.2 У какого количества вакансий заполнено хотя бы одно из двух полей с зарплатой?"
      ]
    },
    {
      "cell_type": "code",
      "execution_count": 16,
      "id": "e177bdb3",
      "metadata": {},
      "outputs": [
        {
          "data": {
            "text/html": [
              "<div>\n",
              "<style scoped>\n",
              "    .dataframe tbody tr th:only-of-type {\n",
              "        vertical-align: middle;\n",
              "    }\n",
              "\n",
              "    .dataframe tbody tr th {\n",
              "        vertical-align: top;\n",
              "    }\n",
              "\n",
              "    .dataframe thead th {\n",
              "        text-align: right;\n",
              "    }\n",
              "</style>\n",
              "<table border=\"1\" class=\"dataframe\">\n",
              "  <thead>\n",
              "    <tr style=\"text-align: right;\">\n",
              "      <th></th>\n",
              "      <th>Кол-во вакансий</th>\n",
              "    </tr>\n",
              "  </thead>\n",
              "  <tbody>\n",
              "    <tr>\n",
              "      <th>0</th>\n",
              "      <td>24073</td>\n",
              "    </tr>\n",
              "  </tbody>\n",
              "</table>\n",
              "</div>"
            ],
            "text/plain": [
              "   Кол-во вакансий\n",
              "0            24073"
            ]
          },
          "execution_count": 16,
          "metadata": {},
          "output_type": "execute_result"
        }
      ],
      "source": [
        "query_4_2 = f'''\n",
        "    SELECT COUNT(*) AS \"Кол-во вакансий\"\n",
        "    FROM public.vacancies v\n",
        "    WHERE v.salary_from IS NOT NULL OR v.salary_to IS NOT NULL\n",
        "    '''\n",
        "    \n",
        "df = pd.read_sql_query(query_4_2, connection)\n",
        "df"
      ]
    },
    {
      "attachments": {},
      "cell_type": "markdown",
      "id": "78ffdb68",
      "metadata": {},
      "source": [
        "4.3 Найдите средние значения для нижней и верхней границы зарплатной вилки. Округлите значения до целого числа."
      ]
    },
    {
      "cell_type": "code",
      "execution_count": 17,
      "id": "002a33f1",
      "metadata": {},
      "outputs": [
        {
          "data": {
            "text/html": [
              "<div>\n",
              "<style scoped>\n",
              "    .dataframe tbody tr th:only-of-type {\n",
              "        vertical-align: middle;\n",
              "    }\n",
              "\n",
              "    .dataframe tbody tr th {\n",
              "        vertical-align: top;\n",
              "    }\n",
              "\n",
              "    .dataframe thead th {\n",
              "        text-align: right;\n",
              "    }\n",
              "</style>\n",
              "<table border=\"1\" class=\"dataframe\">\n",
              "  <thead>\n",
              "    <tr style=\"text-align: right;\">\n",
              "      <th></th>\n",
              "      <th>Среднее значение для нижней зп вил</th>\n",
              "      <th>Среднее значение для верхней зп ви</th>\n",
              "    </tr>\n",
              "  </thead>\n",
              "  <tbody>\n",
              "    <tr>\n",
              "      <th>0</th>\n",
              "      <td>71065.0</td>\n",
              "      <td>110537.0</td>\n",
              "    </tr>\n",
              "  </tbody>\n",
              "</table>\n",
              "</div>"
            ],
            "text/plain": [
              "   Среднее значение для нижней зп вил  Среднее значение для верхней зп ви\n",
              "0                             71065.0                            110537.0"
            ]
          },
          "execution_count": 17,
          "metadata": {},
          "output_type": "execute_result"
        }
      ],
      "source": [
        "query_4_3 = f'''\n",
        "    SELECT \n",
        "        ROUND(AVG(v.salary_from)) AS \"Среднее значение для нижней зп вилки\",\n",
        "        ROUND(AVG(v.salary_to)) AS \"Среднее значение для верхней зп вилки\"\n",
        "    FROM public.vacancies v\n",
        "   \n",
        "    '''\n",
        "df = pd.read_sql_query(query_4_3, connection)\n",
        "df"
      ]
    },
    {
      "attachments": {},
      "cell_type": "markdown",
      "id": "4d5deef4",
      "metadata": {},
      "source": [
        "Задание 4.4 Напишите запрос, который выведет количество вакансий для каждого сочетания типа рабочего графика (schedule) и типа трудоустройства (employment), используемого в вакансиях. Какая пара находится на втором месте по популярности?"
      ]
    },
    {
      "cell_type": "code",
      "execution_count": 18,
      "id": "3d4d4862",
      "metadata": {},
      "outputs": [
        {
          "data": {
            "text/html": [
              "<div>\n",
              "<style scoped>\n",
              "    .dataframe tbody tr th:only-of-type {\n",
              "        vertical-align: middle;\n",
              "    }\n",
              "\n",
              "    .dataframe tbody tr th {\n",
              "        vertical-align: top;\n",
              "    }\n",
              "\n",
              "    .dataframe thead th {\n",
              "        text-align: right;\n",
              "    }\n",
              "</style>\n",
              "<table border=\"1\" class=\"dataframe\">\n",
              "  <thead>\n",
              "    <tr style=\"text-align: right;\">\n",
              "      <th></th>\n",
              "      <th>Кол-во вакансий</th>\n",
              "      <th>Тип рабочего графика</th>\n",
              "      <th>Тип трудоустройства</th>\n",
              "    </tr>\n",
              "  </thead>\n",
              "  <tbody>\n",
              "    <tr>\n",
              "      <th>0</th>\n",
              "      <td>7802</td>\n",
              "      <td>Удаленная работа</td>\n",
              "      <td>Полная занятость</td>\n",
              "    </tr>\n",
              "  </tbody>\n",
              "</table>\n",
              "</div>"
            ],
            "text/plain": [
              "   Кол-во вакансий Тип рабочего графика Тип трудоустройства\n",
              "0             7802     Удаленная работа    Полная занятость"
            ]
          },
          "execution_count": 18,
          "metadata": {},
          "output_type": "execute_result"
        }
      ],
      "source": [
        "query_4_4 = f'''\n",
        "    SELECT\n",
        "        COUNT(v.id) AS \"Кол-во вакансий\",\n",
        "        v.schedule AS \"Тип рабочего графика\",\n",
        "        v.employment AS \"Тип трудоустройства\"\n",
        "    FROM public.vacancies v\n",
        "    GROUP BY v.schedule, v.employment\n",
        "    ORDER BY 1 DESC\n",
        "    OFFSET 1\n",
        "    LIMIT 1\n",
        "    '''\n",
        "df = pd.read_sql_query(query_4_4, connection)\n",
        "df"
      ]
    },
    {
      "attachments": {},
      "cell_type": "markdown",
      "id": "ea726131",
      "metadata": {},
      "source": [
        "4.5 Напишите запрос, выводящий значения поля Требуемый опыт работы (experience) в порядке возрастания количества вакансий, в которых указан данный вариант опыта."
      ]
    },
    {
      "cell_type": "code",
      "execution_count": 37,
      "id": "52ccb07d",
      "metadata": {},
      "outputs": [
        {
          "data": {
            "text/html": [
              "<div>\n",
              "<style scoped>\n",
              "    .dataframe tbody tr th:only-of-type {\n",
              "        vertical-align: middle;\n",
              "    }\n",
              "\n",
              "    .dataframe tbody tr th {\n",
              "        vertical-align: top;\n",
              "    }\n",
              "\n",
              "    .dataframe thead th {\n",
              "        text-align: right;\n",
              "    }\n",
              "</style>\n",
              "<table border=\"1\" class=\"dataframe\">\n",
              "  <thead>\n",
              "    <tr style=\"text-align: right;\">\n",
              "      <th></th>\n",
              "      <th>cnt</th>\n",
              "      <th>Требуемый опыт работы</th>\n",
              "    </tr>\n",
              "  </thead>\n",
              "  <tbody>\n",
              "    <tr>\n",
              "      <th>0</th>\n",
              "      <td>1337</td>\n",
              "      <td>Более 6 лет</td>\n",
              "    </tr>\n",
              "    <tr>\n",
              "      <th>1</th>\n",
              "      <td>7197</td>\n",
              "      <td>Нет опыта</td>\n",
              "    </tr>\n",
              "    <tr>\n",
              "      <th>2</th>\n",
              "      <td>14511</td>\n",
              "      <td>От 3 до 6 лет</td>\n",
              "    </tr>\n",
              "    <tr>\n",
              "      <th>3</th>\n",
              "      <td>26152</td>\n",
              "      <td>От 1 года до 3 лет</td>\n",
              "    </tr>\n",
              "  </tbody>\n",
              "</table>\n",
              "</div>"
            ],
            "text/plain": [
              "     cnt Требуемый опыт работы\n",
              "0   1337           Более 6 лет\n",
              "1   7197             Нет опыта\n",
              "2  14511         От 3 до 6 лет\n",
              "3  26152    От 1 года до 3 лет"
            ]
          },
          "execution_count": 37,
          "metadata": {},
          "output_type": "execute_result"
        }
      ],
      "source": [
        "query_4_4 = f'''\n",
        "    SELECT \n",
        "        COUNT(v.id) AS cnt,\n",
        "        v.experience AS \"Требуемый опыт работы\"\n",
        "    FROM public.vacancies v\n",
        "    GROUP BY v.experience\n",
        "    ORDER BY 1\n",
        "    '''\n",
        "df = pd.read_sql_query(query_4_4, connection)\n",
        "df"
      ]
    },
    {
      "attachments": {},
      "cell_type": "markdown",
      "id": "78de2bd4",
      "metadata": {},
      "source": [
        "#### Выводы по детальному анализу вакансий:\n",
        "- Пятёрка лидеров по количеству вакансий, включает Москву, Санкт-Петербург, Минск, Новосибирск и Алматы. Это города, в которых предложение вакансий наиболее высоко, что может указывать на их значимость и развитость как центров бизнеса и экономики.\n",
        "- Информация о зарплате указана для 24073 вакансий. Это позволяет провести анализ зарплатного уровня и оценить рыночную стоимость работы.\n",
        "- Среднее значение для нижней зарплатной вилки составляет 71065, а для верхней зарплатной вилки - 110537. Это диапазон зарплат, предлагаемых во многих вакансиях, и может служить ориентиром для соискателей в планировании своей заработной платы.\n",
        "- Опыт работы от 1 года до 3 лет является наиболее востребованным. Это может указывать на то, что многие работодатели ищут кандидатов с определенным уровнем опыта, который считается оптимальным для выполнения задач в соответствующей области.\n",
        "- Полная занятость является наиболее популярным типом занятости. Это означает, что большинство работодателей ищут сотрудников, готовых работать на полный рабочий день."
      ]
    },
    {
      "attachments": {},
      "cell_type": "markdown",
      "id": "5105baa1",
      "metadata": {},
      "source": [
        "### Анализ работодателей"
      ]
    },
    {
      "attachments": {},
      "cell_type": "markdown",
      "id": "1ed16898",
      "metadata": {},
      "source": [
        "5.1 Напишите запрос, который позволит узнать, какие работодатели находятся на первом и пятом месте по количеству вакансий."
      ]
    },
    {
      "cell_type": "code",
      "execution_count": 20,
      "id": "c32efce9",
      "metadata": {},
      "outputs": [
        {
          "data": {
            "text/html": [
              "<div>\n",
              "<style scoped>\n",
              "    .dataframe tbody tr th:only-of-type {\n",
              "        vertical-align: middle;\n",
              "    }\n",
              "\n",
              "    .dataframe tbody tr th {\n",
              "        vertical-align: top;\n",
              "    }\n",
              "\n",
              "    .dataframe thead th {\n",
              "        text-align: right;\n",
              "    }\n",
              "</style>\n",
              "<table border=\"1\" class=\"dataframe\">\n",
              "  <thead>\n",
              "    <tr style=\"text-align: right;\">\n",
              "      <th></th>\n",
              "      <th>Работодатель</th>\n",
              "      <th>Кол-во вакансий</th>\n",
              "    </tr>\n",
              "  </thead>\n",
              "  <tbody>\n",
              "    <tr>\n",
              "      <th>0</th>\n",
              "      <td>Яндекс</td>\n",
              "      <td>1933</td>\n",
              "    </tr>\n",
              "    <tr>\n",
              "      <th>1</th>\n",
              "      <td>Газпром нефть</td>\n",
              "      <td>331</td>\n",
              "    </tr>\n",
              "  </tbody>\n",
              "</table>\n",
              "</div>"
            ],
            "text/plain": [
              "    Работодатель  Кол-во вакансий\n",
              "0         Яндекс             1933\n",
              "1  Газпром нефть              331"
            ]
          },
          "execution_count": 20,
          "metadata": {},
          "output_type": "execute_result"
        }
      ],
      "source": [
        "query_5_1 = f'''\n",
        "    (SELECT \n",
        "        e.name AS \"Работодатель\",\n",
        "        COUNT(v.id) AS \"Кол-во вакансий\"\n",
        "    FROM public.employers e\n",
        "    JOIN public.vacancies v ON v.employer_id = e.id\n",
        "    GROUP BY e.name\n",
        "    ORDER BY 2 DESC\n",
        "    LIMIT 1\n",
        "    )\n",
        "    \n",
        "    UNION ALL\n",
        "    \n",
        "    (SELECT \n",
        "        e.name AS \"Работодатель\",\n",
        "        COUNT(v.id) AS \"Кол-во вакансий\"\n",
        "    FROM public.employers e\n",
        "    JOIN public.vacancies v ON v.employer_id = e.id\n",
        "    GROUP BY e.name\n",
        "    ORDER BY 2 DESC\n",
        "    OFFSET 4\n",
        "    LIMIT 1\n",
        "    --OFFSET 4\n",
        "    )\n",
        "    '''\n",
        "df = pd.read_sql_query(query_5_1, connection)\n",
        "df"
      ]
    },
    {
      "attachments": {},
      "cell_type": "markdown",
      "id": "1a14c660",
      "metadata": {},
      "source": [
        "5.2 Напишите запрос, который для каждого региона выведет количество работодателей и вакансий в нём.\n",
        "\n",
        "Среди регионов, в которых нет вакансий, найдите тот, в котором наибольшее количество работодателей. Впишите его название в поле ниже в том виде, который вернул запрос."
      ]
    },
    {
      "cell_type": "code",
      "execution_count": 21,
      "id": "2a595434",
      "metadata": {},
      "outputs": [
        {
          "data": {
            "text/html": [
              "<div>\n",
              "<style scoped>\n",
              "    .dataframe tbody tr th:only-of-type {\n",
              "        vertical-align: middle;\n",
              "    }\n",
              "\n",
              "    .dataframe tbody tr th {\n",
              "        vertical-align: top;\n",
              "    }\n",
              "\n",
              "    .dataframe thead th {\n",
              "        text-align: right;\n",
              "    }\n",
              "</style>\n",
              "<table border=\"1\" class=\"dataframe\">\n",
              "  <thead>\n",
              "    <tr style=\"text-align: right;\">\n",
              "      <th></th>\n",
              "      <th>Регион</th>\n",
              "      <th>Кол-во работодателей</th>\n",
              "      <th>Кол-во вакансий</th>\n",
              "    </tr>\n",
              "  </thead>\n",
              "  <tbody>\n",
              "    <tr>\n",
              "      <th>0</th>\n",
              "      <td>Россия</td>\n",
              "      <td>410</td>\n",
              "      <td>0</td>\n",
              "    </tr>\n",
              "    <tr>\n",
              "      <th>1</th>\n",
              "      <td>Казахстан</td>\n",
              "      <td>207</td>\n",
              "      <td>0</td>\n",
              "    </tr>\n",
              "    <tr>\n",
              "      <th>2</th>\n",
              "      <td>Московская область</td>\n",
              "      <td>75</td>\n",
              "      <td>0</td>\n",
              "    </tr>\n",
              "    <tr>\n",
              "      <th>3</th>\n",
              "      <td>Краснодарский край</td>\n",
              "      <td>19</td>\n",
              "      <td>0</td>\n",
              "    </tr>\n",
              "    <tr>\n",
              "      <th>4</th>\n",
              "      <td>Беларусь</td>\n",
              "      <td>18</td>\n",
              "      <td>0</td>\n",
              "    </tr>\n",
              "  </tbody>\n",
              "</table>\n",
              "</div>"
            ],
            "text/plain": [
              "               Регион  Кол-во работодателей  Кол-во вакансий\n",
              "0              Россия                   410                0\n",
              "1           Казахстан                   207                0\n",
              "2  Московская область                    75                0\n",
              "3  Краснодарский край                    19                0\n",
              "4            Беларусь                    18                0"
            ]
          },
          "execution_count": 21,
          "metadata": {},
          "output_type": "execute_result"
        }
      ],
      "source": [
        "query_5_2 = f'''\n",
        "    SELECT \n",
        "        a.name AS \"Регион\",\n",
        "        COUNT(e.name) AS \"Кол-во работодателей\",\n",
        "        COUNT(v.name) AS \"Кол-во вакансий\"\n",
        "    FROM public.areas a\n",
        "        LEFT JOIN public.employers e ON a.id = e.area\n",
        "        LEFT JOIN public.vacancies v ON v.area_id = a.id\n",
        "    WHERE v.area_id IS NULL\n",
        "    GROUP BY 1\n",
        "    ORDER BY 3 ASC, 2 DESC\n",
        "    LIMIT 5\n",
        "    '''\n",
        "    \n",
        "df = pd.read_sql_query(query_5_2, connection)\n",
        "df"
      ]
    },
    {
      "attachments": {},
      "cell_type": "markdown",
      "id": "941f8fb3",
      "metadata": {},
      "source": [
        "5.3 Для каждого работодателя посчитайте количество регионов, в которых он публикует свои вакансии.\n",
        "\n",
        "Выберите максимальное значение из получившегося списка."
      ]
    },
    {
      "cell_type": "code",
      "execution_count": 22,
      "id": "7fc17dd4",
      "metadata": {},
      "outputs": [
        {
          "data": {
            "text/html": [
              "<div>\n",
              "<style scoped>\n",
              "    .dataframe tbody tr th:only-of-type {\n",
              "        vertical-align: middle;\n",
              "    }\n",
              "\n",
              "    .dataframe tbody tr th {\n",
              "        vertical-align: top;\n",
              "    }\n",
              "\n",
              "    .dataframe thead th {\n",
              "        text-align: right;\n",
              "    }\n",
              "</style>\n",
              "<table border=\"1\" class=\"dataframe\">\n",
              "  <thead>\n",
              "    <tr style=\"text-align: right;\">\n",
              "      <th></th>\n",
              "      <th>Работодатель</th>\n",
              "      <th>Кол-во регионов</th>\n",
              "    </tr>\n",
              "  </thead>\n",
              "  <tbody>\n",
              "    <tr>\n",
              "      <th>0</th>\n",
              "      <td>Яндекс</td>\n",
              "      <td>181</td>\n",
              "    </tr>\n",
              "    <tr>\n",
              "      <th>1</th>\n",
              "      <td>Ростелеком</td>\n",
              "      <td>152</td>\n",
              "    </tr>\n",
              "    <tr>\n",
              "      <th>2</th>\n",
              "      <td>Спецремонт</td>\n",
              "      <td>116</td>\n",
              "    </tr>\n",
              "    <tr>\n",
              "      <th>3</th>\n",
              "      <td>Поляков Денис Иванович</td>\n",
              "      <td>88</td>\n",
              "    </tr>\n",
              "    <tr>\n",
              "      <th>4</th>\n",
              "      <td>ООО ЕФИН</td>\n",
              "      <td>71</td>\n",
              "    </tr>\n",
              "    <tr>\n",
              "      <th>...</th>\n",
              "      <td>...</td>\n",
              "      <td>...</td>\n",
              "    </tr>\n",
              "    <tr>\n",
              "      <th>23170</th>\n",
              "      <td>СДЕЛКА</td>\n",
              "      <td>0</td>\n",
              "    </tr>\n",
              "    <tr>\n",
              "      <th>23171</th>\n",
              "      <td>Alandr Group</td>\n",
              "      <td>0</td>\n",
              "    </tr>\n",
              "    <tr>\n",
              "      <th>23172</th>\n",
              "      <td>СДК</td>\n",
              "      <td>0</td>\n",
              "    </tr>\n",
              "    <tr>\n",
              "      <th>23173</th>\n",
              "      <td>Lemon Land Lombard</td>\n",
              "      <td>0</td>\n",
              "    </tr>\n",
              "    <tr>\n",
              "      <th>23174</th>\n",
              "      <td>Махина</td>\n",
              "      <td>0</td>\n",
              "    </tr>\n",
              "  </tbody>\n",
              "</table>\n",
              "<p>23175 rows × 2 columns</p>\n",
              "</div>"
            ],
            "text/plain": [
              "                 Работодатель  Кол-во регионов\n",
              "0                      Яндекс              181\n",
              "1                  Ростелеком              152\n",
              "2                  Спецремонт              116\n",
              "3      Поляков Денис Иванович               88\n",
              "4                   ООО ЕФИН                71\n",
              "...                       ...              ...\n",
              "23170                  СДЕЛКА                0\n",
              "23171            Alandr Group                0\n",
              "23172                     СДК                0\n",
              "23173      Lemon Land Lombard                0\n",
              "23174                  Махина                0\n",
              "\n",
              "[23175 rows x 2 columns]"
            ]
          },
          "execution_count": 22,
          "metadata": {},
          "output_type": "execute_result"
        }
      ],
      "source": [
        "query_5_3 = f'''\n",
        "    SELECT       \n",
        "        e.name AS \"Работодатель\",\n",
        "       \n",
        "        COUNT(DISTINCT v.area_id) AS \"Кол-во регионов\"\n",
        "    FROM public.vacancies v\n",
        "    FULL JOIN public.employers e ON v.employer_id = e.id\n",
        "\n",
        "    GROUP BY 1\n",
        "    ORDER BY 2 DESC\n",
        "    '''\n",
        "    \n",
        "df = pd.read_sql_query(query_5_3, connection)\n",
        "df"
      ]
    },
    {
      "attachments": {},
      "cell_type": "markdown",
      "id": "ff99e857",
      "metadata": {},
      "source": [
        "5.4 Напишите запрос для подсчёта количества работодателей, у которых не указана сфера деятельности.\n",
        "\n",
        "Введите количество, которое вернул запрос, в поле ниже."
      ]
    },
    {
      "cell_type": "code",
      "execution_count": 23,
      "id": "e3213a45",
      "metadata": {},
      "outputs": [
        {
          "data": {
            "text/html": [
              "<div>\n",
              "<style scoped>\n",
              "    .dataframe tbody tr th:only-of-type {\n",
              "        vertical-align: middle;\n",
              "    }\n",
              "\n",
              "    .dataframe tbody tr th {\n",
              "        vertical-align: top;\n",
              "    }\n",
              "\n",
              "    .dataframe thead th {\n",
              "        text-align: right;\n",
              "    }\n",
              "</style>\n",
              "<table border=\"1\" class=\"dataframe\">\n",
              "  <thead>\n",
              "    <tr style=\"text-align: right;\">\n",
              "      <th></th>\n",
              "      <th>Кол-во работодателей</th>\n",
              "    </tr>\n",
              "  </thead>\n",
              "  <tbody>\n",
              "    <tr>\n",
              "      <th>0</th>\n",
              "      <td>8419</td>\n",
              "    </tr>\n",
              "  </tbody>\n",
              "</table>\n",
              "</div>"
            ],
            "text/plain": [
              "   Кол-во работодателей\n",
              "0                  8419"
            ]
          },
          "execution_count": 23,
          "metadata": {},
          "output_type": "execute_result"
        }
      ],
      "source": [
        "query_5_4 = f'''\n",
        "    SELECT       \n",
        "        COUNT(*) AS \"Кол-во работодателей\"\n",
        "    FROM public.employers_industries ei\n",
        "    RIGHT JOIN public.employers e ON ei.employer_id = e.id\n",
        "    WHERE ei.industry_id IS NULL\n",
        "    '''\n",
        "    \n",
        "df = pd.read_sql_query(query_5_4, connection)\n",
        "df"
      ]
    },
    {
      "attachments": {},
      "cell_type": "markdown",
      "id": "9b76fa4b",
      "metadata": {},
      "source": [
        "5.5 Напишите запрос, чтобы узнать название компании, находящейся на третьем месте в алфавитном списке (по названию) компаний, у которых указано четыре сферы деятельности.\n",
        "\n",
        "Введите в поле ниже название этой компании так же, как оно указано в результате запроса."
      ]
    },
    {
      "cell_type": "code",
      "execution_count": 39,
      "id": "0852e84d",
      "metadata": {},
      "outputs": [
        {
          "data": {
            "text/html": [
              "<div>\n",
              "<style scoped>\n",
              "    .dataframe tbody tr th:only-of-type {\n",
              "        vertical-align: middle;\n",
              "    }\n",
              "\n",
              "    .dataframe tbody tr th {\n",
              "        vertical-align: top;\n",
              "    }\n",
              "\n",
              "    .dataframe thead th {\n",
              "        text-align: right;\n",
              "    }\n",
              "</style>\n",
              "<table border=\"1\" class=\"dataframe\">\n",
              "  <thead>\n",
              "    <tr style=\"text-align: right;\">\n",
              "      <th></th>\n",
              "      <th>Названия компаний</th>\n",
              "      <th>Кол-во сфер деятельности</th>\n",
              "    </tr>\n",
              "  </thead>\n",
              "  <tbody>\n",
              "    <tr>\n",
              "      <th>0</th>\n",
              "      <td>2ГИС</td>\n",
              "      <td>4</td>\n",
              "    </tr>\n",
              "  </tbody>\n",
              "</table>\n",
              "</div>"
            ],
            "text/plain": [
              "  Названия компаний  Кол-во сфер деятельности\n",
              "0              2ГИС                         4"
            ]
          },
          "execution_count": 39,
          "metadata": {},
          "output_type": "execute_result"
        }
      ],
      "source": [
        "query_5_5 = f'''\n",
        "    SELECT\n",
        "        e.name AS \"Названия компаний\",\n",
        "        COUNT(ei.industry_id) AS \"Кол-во сфер деятельности\"\n",
        "    FROM public.employers e\n",
        "    FULL JOIN public.employers_industries ei ON ei.employer_id = e.id\n",
        "    GROUP BY e.name\n",
        "    HAVING COUNT(ei.industry_id) = 4\n",
        "    ORDER BY 1\n",
        "    OFFSET 2\n",
        "    LIMIT 1\n",
        "    '''\n",
        "\n",
        "df = pd.read_sql_query(query_5_5, connection)\n",
        "df"
      ]
    },
    {
      "attachments": {},
      "cell_type": "markdown",
      "id": "b20b1b64",
      "metadata": {},
      "source": [
        "5.6 С помощью запроса выясните, у какого количества работодателей в качестве сферы деятельности указана «Разработка программного обеспечения»."
      ]
    },
    {
      "cell_type": "code",
      "execution_count": 25,
      "id": "473bd423",
      "metadata": {},
      "outputs": [
        {
          "data": {
            "text/html": [
              "<div>\n",
              "<style scoped>\n",
              "    .dataframe tbody tr th:only-of-type {\n",
              "        vertical-align: middle;\n",
              "    }\n",
              "\n",
              "    .dataframe tbody tr th {\n",
              "        vertical-align: top;\n",
              "    }\n",
              "\n",
              "    .dataframe thead th {\n",
              "        text-align: right;\n",
              "    }\n",
              "</style>\n",
              "<table border=\"1\" class=\"dataframe\">\n",
              "  <thead>\n",
              "    <tr style=\"text-align: right;\">\n",
              "      <th></th>\n",
              "      <th>Кол-во работодателей</th>\n",
              "    </tr>\n",
              "  </thead>\n",
              "  <tbody>\n",
              "    <tr>\n",
              "      <th>0</th>\n",
              "      <td>3553</td>\n",
              "    </tr>\n",
              "  </tbody>\n",
              "</table>\n",
              "</div>"
            ],
            "text/plain": [
              "   Кол-во работодателей\n",
              "0                  3553"
            ]
          },
          "execution_count": 25,
          "metadata": {},
          "output_type": "execute_result"
        }
      ],
      "source": [
        "query_5_6 = f'''\n",
        "    SELECT\n",
        "        COUNT(ei.employer_id) AS \"Кол-во работодателей\"\n",
        "    FROM public.employers_industries ei\n",
        "    LEFT JOIN public.industries i ON ei.industry_id = i.id\n",
        "    WHERE i.name = 'Разработка программного обеспечения'\n",
        "    '''\n",
        "    \n",
        "df = pd.read_sql_query(query_5_6, connection)\n",
        "df"
      ]
    },
    {
      "attachments": {},
      "cell_type": "markdown",
      "id": "7213804b",
      "metadata": {},
      "source": [
        "5.7 Для компании «Яндекс» выведите список регионов-миллионников , в которых представлены вакансии компании, вместе с количеством вакансий в этих регионах. Также добавьте строку Total с общим количеством вакансий компании, собранных в этой таблице. Должна получиться выборка такого вида (приведён пример результата для компании SberTech):"
      ]
    },
    {
      "cell_type": "code",
      "execution_count": 26,
      "id": "112ec49d",
      "metadata": {},
      "outputs": [
        {
          "data": {
            "text/plain": [
              "['Москва',\n",
              " 'Санкт-Петербург',\n",
              " 'Новосибирск',\n",
              " 'Екатеринбург',\n",
              " 'Казань',\n",
              " 'Нижний Новгород',\n",
              " 'Красноярск',\n",
              " 'Челябинск',\n",
              " 'Самара',\n",
              " 'Уфа',\n",
              " 'Ростов-на-Дону',\n",
              " 'Краснодар',\n",
              " 'Омск',\n",
              " 'Воронеж',\n",
              " 'Пермь',\n",
              " 'Волгоград']"
            ]
          },
          "metadata": {},
          "output_type": "display_data"
        }
      ],
      "source": [
        "url = 'https://ru.wikipedia.org/wiki/%D0%93%D0%BE%D1%80%D0%BE%D0%B4%D0%B0-%D0%BC%D0%B8%D0%BB%D0%BB%D0%B8%D0%BE%D0%BD%D0%B5%D1%80%D1%8B_%D0%A0%D0%BE%D1%81%D1%81%D0%B8%D0%B8'\n",
        "tables = pd.read_html(url)\n",
        "city_df = tables[1]\n",
        "city_list = list(city_df['Город'])\n",
        "city_list[13] = 'Воронеж'\n",
        "display(city_list)"
      ]
    },
    {
      "cell_type": "code",
      "execution_count": 27,
      "id": "e7a66a0c",
      "metadata": {},
      "outputs": [
        {
          "data": {
            "text/html": [
              "<div>\n",
              "<style scoped>\n",
              "    .dataframe tbody tr th:only-of-type {\n",
              "        vertical-align: middle;\n",
              "    }\n",
              "\n",
              "    .dataframe tbody tr th {\n",
              "        vertical-align: top;\n",
              "    }\n",
              "\n",
              "    .dataframe thead th {\n",
              "        text-align: right;\n",
              "    }\n",
              "</style>\n",
              "<table border=\"1\" class=\"dataframe\">\n",
              "  <thead>\n",
              "    <tr style=\"text-align: right;\">\n",
              "      <th></th>\n",
              "      <th>Регионы-миллионники</th>\n",
              "      <th>Кол-во вакансий</th>\n",
              "    </tr>\n",
              "  </thead>\n",
              "  <tbody>\n",
              "    <tr>\n",
              "      <th>0</th>\n",
              "      <td>Омск</td>\n",
              "      <td>21</td>\n",
              "    </tr>\n",
              "    <tr>\n",
              "      <th>1</th>\n",
              "      <td>Челябинск</td>\n",
              "      <td>22</td>\n",
              "    </tr>\n",
              "    <tr>\n",
              "      <th>2</th>\n",
              "      <td>Красноярск</td>\n",
              "      <td>23</td>\n",
              "    </tr>\n",
              "    <tr>\n",
              "      <th>3</th>\n",
              "      <td>Волгоград</td>\n",
              "      <td>24</td>\n",
              "    </tr>\n",
              "    <tr>\n",
              "      <th>4</th>\n",
              "      <td>Пермь</td>\n",
              "      <td>25</td>\n",
              "    </tr>\n",
              "    <tr>\n",
              "      <th>5</th>\n",
              "      <td>Казань</td>\n",
              "      <td>25</td>\n",
              "    </tr>\n",
              "    <tr>\n",
              "      <th>6</th>\n",
              "      <td>Ростов-на-Дону</td>\n",
              "      <td>25</td>\n",
              "    </tr>\n",
              "    <tr>\n",
              "      <th>7</th>\n",
              "      <td>Уфа</td>\n",
              "      <td>26</td>\n",
              "    </tr>\n",
              "    <tr>\n",
              "      <th>8</th>\n",
              "      <td>Самара</td>\n",
              "      <td>26</td>\n",
              "    </tr>\n",
              "    <tr>\n",
              "      <th>9</th>\n",
              "      <td>Краснодар</td>\n",
              "      <td>30</td>\n",
              "    </tr>\n",
              "    <tr>\n",
              "      <th>10</th>\n",
              "      <td>Воронеж</td>\n",
              "      <td>32</td>\n",
              "    </tr>\n",
              "    <tr>\n",
              "      <th>11</th>\n",
              "      <td>Новосибирск</td>\n",
              "      <td>35</td>\n",
              "    </tr>\n",
              "    <tr>\n",
              "      <th>12</th>\n",
              "      <td>Нижний Новгород</td>\n",
              "      <td>36</td>\n",
              "    </tr>\n",
              "    <tr>\n",
              "      <th>13</th>\n",
              "      <td>Екатеринбург</td>\n",
              "      <td>39</td>\n",
              "    </tr>\n",
              "    <tr>\n",
              "      <th>14</th>\n",
              "      <td>Санкт-Петербург</td>\n",
              "      <td>42</td>\n",
              "    </tr>\n",
              "    <tr>\n",
              "      <th>15</th>\n",
              "      <td>Москва</td>\n",
              "      <td>54</td>\n",
              "    </tr>\n",
              "    <tr>\n",
              "      <th>16</th>\n",
              "      <td>Total</td>\n",
              "      <td>485</td>\n",
              "    </tr>\n",
              "  </tbody>\n",
              "</table>\n",
              "</div>"
            ],
            "text/plain": [
              "   Регионы-миллионники  Кол-во вакансий\n",
              "0                 Омск               21\n",
              "1            Челябинск               22\n",
              "2           Красноярск               23\n",
              "3            Волгоград               24\n",
              "4                Пермь               25\n",
              "5               Казань               25\n",
              "6       Ростов-на-Дону               25\n",
              "7                  Уфа               26\n",
              "8               Самара               26\n",
              "9            Краснодар               30\n",
              "10             Воронеж               32\n",
              "11         Новосибирск               35\n",
              "12     Нижний Новгород               36\n",
              "13        Екатеринбург               39\n",
              "14     Санкт-Петербург               42\n",
              "15              Москва               54\n",
              "16               Total              485"
            ]
          },
          "execution_count": 27,
          "metadata": {},
          "output_type": "execute_result"
        }
      ],
      "source": [
        "query_5_7 = f'''\n",
        "    SELECT\n",
        "        a.name AS \"Регионы-миллионники\",\n",
        "        COUNT(v.id) \"Кол-во вакансий\"\n",
        "    FROM public.vacancies v\n",
        "    LEFT JOIN public.employers e on v.employer_id = e.id\n",
        "    LEFT JOIN public.areas a on v.area_id = a.id\n",
        "    WHERE e.name = 'Яндекс' and a.name in ('Москва', 'Санкт-Петербург', 'Новосибирск', 'Екатеринбург', 'Казань', 'Нижний Новгород', \n",
        "    'Челябинск', 'Красноярск', 'Самара', 'Уфа', 'Ростов-на-Дону', 'Омск', 'Краснодар', 'Воронеж', 'Пермь', 'Волгоград')\n",
        "    GROUP BY a.name\n",
        "\n",
        "    UNION ALL\n",
        "\n",
        "    SELECT \n",
        "        'Total', \n",
        "        count(*)\n",
        "    FROM public.vacancies v\n",
        "    LEFT JOIN public.employers e on v.employer_id = e.id\n",
        "    LEFT JOIN public.areas a on v.area_id = a.id\n",
        "    WHERE e.name = 'Яндекс' and a.name in ('Москва', 'Санкт-Петербург', 'Новосибирск', 'Екатеринбург', 'Казань', 'Нижний Новгород', \n",
        "    'Челябинск', 'Красноярск', 'Самара', 'Уфа', 'Ростов-на-Дону', 'Омск', 'Краснодар', 'Воронеж', 'Пермь', 'Волгоград')\n",
        "    ORDER BY 2\n",
        "    '''\n",
        "    \n",
        "df = pd.read_sql_query(query_5_7, connection)\n",
        "df"
      ]
    },
    {
      "attachments": {},
      "cell_type": "markdown",
      "id": "64ee036b",
      "metadata": {},
      "source": [
        "#### Выводы по анализу работодателей:\n",
        "- Компания Яндекс занимает первое место по количеству вакансий. Это указывает на значительное присутствие и активность компании на рынке труда.\n",
        "- В регионах, где нет вакансий, большинство работодателей находится в России. Это может быть связано с ориентацией этих работодателей на местный рынок труда.\n",
        "- Выявлено 8419 работодателей, у которых не указана сфера деятельности. Это может указывать на неполную или некорректную заполненность данных в базе.\n",
        "- Наиболее востребованный опыт работы - от 1 года до 3 лет. Это может быть связано с тем, что работодатели ищут кандидатов, которые имеют определенный опыт работы, но еще не являются слишком специализированными.\n",
        "- Полная занятость является наиболее популярным типом занятости. Это указывает на то, что работодатели предпочитают нанимать сотрудников на полный рабочий день.\n",
        "- Компания Яндекс представила 485 вакансий в 17 городах-миллионниках. Это говорит о широком географическом охвате и наличии возможностей для трудоустройства в разных городах."
      ]
    },
    {
      "attachments": {},
      "cell_type": "markdown",
      "id": "a9742e1f",
      "metadata": {},
      "source": [
        "###  Предметный анализ"
      ]
    },
    {
      "attachments": {},
      "cell_type": "markdown",
      "id": "aadd7856",
      "metadata": {},
      "source": [
        " 6.1 Сколько вакансий имеет отношение к данным?"
      ]
    },
    {
      "cell_type": "code",
      "execution_count": 28,
      "id": "99eb6545",
      "metadata": {},
      "outputs": [
        {
          "data": {
            "text/html": [
              "<div>\n",
              "<style scoped>\n",
              "    .dataframe tbody tr th:only-of-type {\n",
              "        vertical-align: middle;\n",
              "    }\n",
              "\n",
              "    .dataframe tbody tr th {\n",
              "        vertical-align: top;\n",
              "    }\n",
              "\n",
              "    .dataframe thead th {\n",
              "        text-align: right;\n",
              "    }\n",
              "</style>\n",
              "<table border=\"1\" class=\"dataframe\">\n",
              "  <thead>\n",
              "    <tr style=\"text-align: right;\">\n",
              "      <th></th>\n",
              "      <th>Кол-во вакансий, связанных с DS</th>\n",
              "    </tr>\n",
              "  </thead>\n",
              "  <tbody>\n",
              "    <tr>\n",
              "      <th>0</th>\n",
              "      <td>1771</td>\n",
              "    </tr>\n",
              "  </tbody>\n",
              "</table>\n",
              "</div>"
            ],
            "text/plain": [
              "   Кол-во вакансий, связанных с DS\n",
              "0                             1771"
            ]
          },
          "execution_count": 28,
          "metadata": {},
          "output_type": "execute_result"
        }
      ],
      "source": [
        "query_6_1 = f'''\n",
        "    SELECT\n",
        "        COUNT(v.id) AS \"Кол-во вакансий, связанных с DS\"\n",
        "    FROM public.vacancies v\n",
        "    WHERE lower(v.name) LIKE '%данн%' OR lower(v.name) LIKE '%data%'\n",
        "    '''\n",
        "\n",
        "df =pd.read_sql_query(sqlalchemy.text(query_6_1), connection)\n",
        "df"
      ]
    },
    {
      "attachments": {},
      "cell_type": "markdown",
      "id": "08aa1976",
      "metadata": {},
      "source": [
        "6.2 Сколько есть подходящих вакансий для начинающего дата-сайентиста?\n",
        "Будем считать вакансиями для дата-сайентистов такие, в названии которых есть хотя бы одно из следующих сочетаний:\n",
        "\n",
        "‘data scientist’;\n",
        "‘data science’;\n",
        "‘исследователь данных’;\n",
        "‘ML’ (здесь не нужно брать вакансии по HTML);\n",
        "‘machine learning’;\n",
        "‘машинн%обучен%’.\n",
        "\n",
        "Считаем вакансиями для специалистов уровня Junior следующие:\n",
        "\n",
        "в названии есть слово “junior” или\n",
        "требуемый опыт — «Нет опыта» или\n",
        "тип трудоустройства — «Стажировка»."
      ]
    },
    {
      "cell_type": "code",
      "execution_count": 29,
      "id": "74742423",
      "metadata": {},
      "outputs": [
        {
          "data": {
            "text/html": [
              "<div>\n",
              "<style scoped>\n",
              "    .dataframe tbody tr th:only-of-type {\n",
              "        vertical-align: middle;\n",
              "    }\n",
              "\n",
              "    .dataframe tbody tr th {\n",
              "        vertical-align: top;\n",
              "    }\n",
              "\n",
              "    .dataframe thead th {\n",
              "        text-align: right;\n",
              "    }\n",
              "</style>\n",
              "<table border=\"1\" class=\"dataframe\">\n",
              "  <thead>\n",
              "    <tr style=\"text-align: right;\">\n",
              "      <th></th>\n",
              "      <th>Кол-во вакансий junior DS</th>\n",
              "    </tr>\n",
              "  </thead>\n",
              "  <tbody>\n",
              "    <tr>\n",
              "      <th>0</th>\n",
              "      <td>51</td>\n",
              "    </tr>\n",
              "  </tbody>\n",
              "</table>\n",
              "</div>"
            ],
            "text/plain": [
              "   Кол-во вакансий junior DS\n",
              "0                         51"
            ]
          },
          "execution_count": 29,
          "metadata": {},
          "output_type": "execute_result"
        }
      ],
      "source": [
        "query_6_2 = f'''\n",
        "    SELECT\n",
        "        COUNT(v.id) AS \"Кол-во вакансий junior DS\"\n",
        "    FROM public.vacancies v\n",
        "    WHERE (lower(v.name) LIKE '%data scientist%'\n",
        "    OR lower(v.name) LIKE '%data science%'\n",
        "    OR lower(v.name) like '%исследователь данных%'\n",
        "    OR (v.name LIKE '%ML%' AND v.name NOT LIKE '%HTML%')\n",
        "    OR lower(v.name) LIKE '%machine learning%'\n",
        "    OR lower(v.name) LIKE '%машинн%обучен%')\n",
        "    AND \n",
        "    (lower(v.name) LIKE '%junior%'\n",
        "    OR lower(v.experience) LIKE '%нет опыта%'\n",
        "    OR lower(v.experience) LIKE '%стажировка%')\n",
        "    '''\n",
        "\n",
        "df =pd.read_sql_query(sqlalchemy.text(query_6_2), connection)\n",
        "df"
      ]
    },
    {
      "attachments": {},
      "cell_type": "markdown",
      "id": "a868108c",
      "metadata": {},
      "source": [
        "6.3 Сколько есть вакансий для DS, в которых в качестве ключевого навыка указан SQL или postgres?\n",
        "В качестве ответа запишите количество, которое вернул запрос."
      ]
    },
    {
      "cell_type": "code",
      "execution_count": 30,
      "id": "7a413462",
      "metadata": {},
      "outputs": [
        {
          "data": {
            "text/html": [
              "<div>\n",
              "<style scoped>\n",
              "    .dataframe tbody tr th:only-of-type {\n",
              "        vertical-align: middle;\n",
              "    }\n",
              "\n",
              "    .dataframe tbody tr th {\n",
              "        vertical-align: top;\n",
              "    }\n",
              "\n",
              "    .dataframe thead th {\n",
              "        text-align: right;\n",
              "    }\n",
              "</style>\n",
              "<table border=\"1\" class=\"dataframe\">\n",
              "  <thead>\n",
              "    <tr style=\"text-align: right;\">\n",
              "      <th></th>\n",
              "      <th>count</th>\n",
              "    </tr>\n",
              "  </thead>\n",
              "  <tbody>\n",
              "    <tr>\n",
              "      <th>0</th>\n",
              "      <td>201</td>\n",
              "    </tr>\n",
              "  </tbody>\n",
              "</table>\n",
              "</div>"
            ],
            "text/plain": [
              "   count\n",
              "0    201"
            ]
          },
          "execution_count": 30,
          "metadata": {},
          "output_type": "execute_result"
        }
      ],
      "source": [
        "query_6_3 = f'''\n",
        "    SELECT\n",
        "        COUNT(v.id)\n",
        "    FROM public.vacancies v\n",
        "    WHERE (lower(v.name) LIKE '%data scientist%'\n",
        "    OR lower(v.name) LIKE '%data science%'\n",
        "    OR lower(v.name) like '%исследователь данных%'\n",
        "    OR (v.name LIKE '%ML%' AND v.name NOT LIKE '%HTML%')\n",
        "    OR lower(v.name) LIKE '%machine learning%'\n",
        "    OR lower(v.name) LIKE '%машинн%обучен%')\n",
        "    AND\n",
        "    (v.key_skills LIKE '%SQL%'\n",
        "    OR v.key_skills LIKE '%postgres%')\n",
        "    '''\n",
        "\n",
        "df =pd.read_sql_query(sqlalchemy.text(query_6_3), connection)\n",
        "df"
      ]
    },
    {
      "attachments": {},
      "cell_type": "markdown",
      "id": "1df26aae",
      "metadata": {},
      "source": [
        "6.4 С помощью запроса, аналогичного предыдущему, проверьте, насколько популярен Python в требованиях работодателей к DS. Вычислите количество вакансий, в которых в качестве ключевого навыка указан Python.\n",
        "В качестве ответа запишите количество, которое вернул запрос."
      ]
    },
    {
      "cell_type": "code",
      "execution_count": 31,
      "id": "970782cb",
      "metadata": {},
      "outputs": [
        {
          "data": {
            "text/html": [
              "<div>\n",
              "<style scoped>\n",
              "    .dataframe tbody tr th:only-of-type {\n",
              "        vertical-align: middle;\n",
              "    }\n",
              "\n",
              "    .dataframe tbody tr th {\n",
              "        vertical-align: top;\n",
              "    }\n",
              "\n",
              "    .dataframe thead th {\n",
              "        text-align: right;\n",
              "    }\n",
              "</style>\n",
              "<table border=\"1\" class=\"dataframe\">\n",
              "  <thead>\n",
              "    <tr style=\"text-align: right;\">\n",
              "      <th></th>\n",
              "      <th>count</th>\n",
              "    </tr>\n",
              "  </thead>\n",
              "  <tbody>\n",
              "    <tr>\n",
              "      <th>0</th>\n",
              "      <td>351</td>\n",
              "    </tr>\n",
              "  </tbody>\n",
              "</table>\n",
              "</div>"
            ],
            "text/plain": [
              "   count\n",
              "0    351"
            ]
          },
          "execution_count": 31,
          "metadata": {},
          "output_type": "execute_result"
        }
      ],
      "source": [
        "query_6_4 = f'''\n",
        "    SELECT\n",
        "        COUNT(v.id)\n",
        "    FROM public.vacancies v\n",
        "    WHERE (lower(v.name) LIKE '%data scientist%'\n",
        "    OR lower(v.name) LIKE '%data science%'\n",
        "    OR lower(v.name) like '%исследователь данных%'\n",
        "    OR (v.name LIKE '%ML%' AND v.name NOT LIKE '%HTML%')\n",
        "    OR lower(v.name) LIKE '%machine learning%'\n",
        "    OR lower(v.name) LIKE '%машинн%обучен%')\n",
        "    AND v.key_skills LIKE '%Python%'\n",
        "    '''\n",
        "\n",
        "df =pd.read_sql_query(sqlalchemy.text(query_6_4), connection)\n",
        "df"
      ]
    },
    {
      "attachments": {},
      "cell_type": "markdown",
      "id": "06226885",
      "metadata": {},
      "source": [
        "6.5 Сколько ключевых навыков в среднем указывают в вакансиях для DS?\n",
        "Ответ округлите до двух знаков после точки-разделителя."
      ]
    },
    {
      "cell_type": "code",
      "execution_count": 32,
      "id": "35b178b4",
      "metadata": {},
      "outputs": [
        {
          "data": {
            "text/html": [
              "<div>\n",
              "<style scoped>\n",
              "    .dataframe tbody tr th:only-of-type {\n",
              "        vertical-align: middle;\n",
              "    }\n",
              "\n",
              "    .dataframe tbody tr th {\n",
              "        vertical-align: top;\n",
              "    }\n",
              "\n",
              "    .dataframe thead th {\n",
              "        text-align: right;\n",
              "    }\n",
              "</style>\n",
              "<table border=\"1\" class=\"dataframe\">\n",
              "  <thead>\n",
              "    <tr style=\"text-align: right;\">\n",
              "      <th></th>\n",
              "      <th>Среднее кол-во ключевых скилов</th>\n",
              "    </tr>\n",
              "  </thead>\n",
              "  <tbody>\n",
              "    <tr>\n",
              "      <th>0</th>\n",
              "      <td>6.41</td>\n",
              "    </tr>\n",
              "  </tbody>\n",
              "</table>\n",
              "</div>"
            ],
            "text/plain": [
              "   Среднее кол-во ключевых скилов\n",
              "0                            6.41"
            ]
          },
          "execution_count": 32,
          "metadata": {},
          "output_type": "execute_result"
        }
      ],
      "source": [
        "query_6_5 = f'''\n",
        "    select\n",
        "        round(AVG(LENGTH(v.key_skills) -\n",
        "        LENGTH(REPLACE(v.key_skills, chr(9), '')) + 1), 2) AS \"Среднее кол-во ключевых скилов\"\n",
        "    FROM public.vacancies v\n",
        "    WHERE (lower(v.name) LIKE '%data scientist%'\n",
        "    OR lower(v.name) LIKE '%data science%'\n",
        "    OR lower(v.name) like '%исследователь данных%'\n",
        "    OR (v.name LIKE '%ML%' AND v.name NOT LIKE '%HTML%')\n",
        "    OR lower(v.name) LIKE '%machine learning%'\n",
        "    OR lower(v.name) LIKE '%машинн%обучен%')\n",
        "    '''\n",
        "\n",
        "df =pd.read_sql_query(sqlalchemy.text(query_6_5), connection)\n",
        "df"
      ]
    },
    {
      "attachments": {},
      "cell_type": "markdown",
      "id": "9db6a54f",
      "metadata": {},
      "source": [
        "6.6 Напишите запрос, позволяющий вычислить, какую зарплату для DS в среднем указывают для каждого типа требуемого опыта (уникальное значение из поля experience).\n",
        "Выясните, на какую зарплату в среднем может рассчитывать дата-сайентист с опытом работы от 3 до 6 лет. Результат округлите до целого числа."
      ]
    },
    {
      "cell_type": "code",
      "execution_count": 33,
      "id": "debebd42",
      "metadata": {},
      "outputs": [
        {
          "data": {
            "text/html": [
              "<div>\n",
              "<style scoped>\n",
              "    .dataframe tbody tr th:only-of-type {\n",
              "        vertical-align: middle;\n",
              "    }\n",
              "\n",
              "    .dataframe tbody tr th {\n",
              "        vertical-align: top;\n",
              "    }\n",
              "\n",
              "    .dataframe thead th {\n",
              "        text-align: right;\n",
              "    }\n",
              "</style>\n",
              "<table border=\"1\" class=\"dataframe\">\n",
              "  <thead>\n",
              "    <tr style=\"text-align: right;\">\n",
              "      <th></th>\n",
              "      <th>Средняя зарплата дата-сайентиста</th>\n",
              "    </tr>\n",
              "  </thead>\n",
              "  <tbody>\n",
              "    <tr>\n",
              "      <th>0</th>\n",
              "      <td>243115.0</td>\n",
              "    </tr>\n",
              "  </tbody>\n",
              "</table>\n",
              "</div>"
            ],
            "text/plain": [
              "   Средняя зарплата дата-сайентиста \n",
              "0                           243115.0"
            ]
          },
          "execution_count": 33,
          "metadata": {},
          "output_type": "execute_result"
        }
      ],
      "source": [
        "query_6_6 = f'''\n",
        "    select\n",
        "        round(AVG(COALESCE((v.salary_to + v.salary_from)/2, v.salary_to, v.salary_from))) AS \"Средняя зарплата дата-сайентиста с опытом работы от 3 до 6 лет\"\n",
        "    FROM public.vacancies v\n",
        "    WHERE (lower(v.name) LIKE '%data scientist%'\n",
        "    OR lower(v.name) LIKE '%data science%'\n",
        "    OR lower(v.name) like '%исследователь данных%'\n",
        "    OR (v.name LIKE '%ML%' AND v.name NOT LIKE '%HTML%')\n",
        "    OR lower(v.name) LIKE '%machine learning%'\n",
        "    OR lower(v.name) LIKE '%машинн%обучен%')\n",
        "    AND (v.salary_to IS NOT NULL OR v.salary_from IS NOT NULL)\n",
        "    AND v.experience = 'От 3 до 6 лет'\n",
        "    '''\n",
        "\n",
        "df =pd.read_sql_query(sqlalchemy.text(query_6_6), connection)\n",
        "df"
      ]
    },
    {
      "attachments": {},
      "cell_type": "markdown",
      "id": "125138dc",
      "metadata": {},
      "source": [
        "#### Выводы по предметному анализу:\n",
        "- Количество вакансий, связанных с работой с данными, составляет 1771. Это указывает на наличие значительного спроса на специалистов в области анализа данных и data science.\n",
        "- Существует 51 подходящая вакансия для начинающего дата-сайентиста. Это означает, что существуют возможности для новичков в этой области найти работу и начать свою карьеру.\n",
        "- Количество вакансий для дата-сайентистов, где SQL или postgre указаны в качестве ключевых навыков, составляет 201. Это указывает на важность знания SQL или postgre для работы в этой области и требования работодателей в этом отношении.\n",
        "- Количество вакансий, где Python указывается в качестве ключевого навыка, составляет 351. Это говорит о том, что знание Python востребовано в работе дата-сайентиста и является одним из основных инструментов в этой области.\n",
        "- Среднее количество ключевых навыков для дата-сайентиста составляет более 6. Это говорит о том, что в этой области требуются специалисты с широким спектром навыков и компетенций.\n",
        "- Средняя зарплата для дата-сайентиста с опытом работы от 3 до 6 лет составляет 243115. Это указывает на то, что опытные специалисты в этой области могут рассчитывать на высокую заработную плату."
      ]
    },
    {
      "attachments": {},
      "cell_type": "markdown",
      "id": "17fe33da",
      "metadata": {},
      "source": [
        "Дополнительные исследования"
      ]
    },
    {
      "attachments": {},
      "cell_type": "markdown",
      "id": "892bb711",
      "metadata": {},
      "source": [
        "7.1 Проведём анализ количества вакансий по сферам деятельности. Выведем ТОП-3 сфер деятельности по количеству вакансий."
      ]
    },
    {
      "cell_type": "code",
      "execution_count": 35,
      "id": "e871ad9c",
      "metadata": {},
      "outputs": [
        {
          "data": {
            "text/html": [
              "<div>\n",
              "<style scoped>\n",
              "    .dataframe tbody tr th:only-of-type {\n",
              "        vertical-align: middle;\n",
              "    }\n",
              "\n",
              "    .dataframe tbody tr th {\n",
              "        vertical-align: top;\n",
              "    }\n",
              "\n",
              "    .dataframe thead th {\n",
              "        text-align: right;\n",
              "    }\n",
              "</style>\n",
              "<table border=\"1\" class=\"dataframe\">\n",
              "  <thead>\n",
              "    <tr style=\"text-align: right;\">\n",
              "      <th></th>\n",
              "      <th>Сфера деятельности</th>\n",
              "      <th>Количество вакансий</th>\n",
              "    </tr>\n",
              "  </thead>\n",
              "  <tbody>\n",
              "    <tr>\n",
              "      <th>0</th>\n",
              "      <td>Разработка программного обеспечения</td>\n",
              "      <td>12499</td>\n",
              "    </tr>\n",
              "    <tr>\n",
              "      <th>1</th>\n",
              "      <td>Системная интеграция,  автоматизации технологи...</td>\n",
              "      <td>11034</td>\n",
              "    </tr>\n",
              "    <tr>\n",
              "      <th>2</th>\n",
              "      <td>Интернет-компания (поисковики, платежные систе...</td>\n",
              "      <td>6413</td>\n",
              "    </tr>\n",
              "  </tbody>\n",
              "</table>\n",
              "</div>"
            ],
            "text/plain": [
              "                                  Сфера деятельности  Количество вакансий\n",
              "0                Разработка программного обеспечения                12499\n",
              "1  Системная интеграция,  автоматизации технологи...                11034\n",
              "2  Интернет-компания (поисковики, платежные систе...                 6413"
            ]
          },
          "execution_count": 35,
          "metadata": {},
          "output_type": "execute_result"
        }
      ],
      "source": [
        "query_7_1 = f'''SELECT\n",
        "    i.name AS \"Сфера деятельности\",\n",
        "    COUNT(v.id) AS \"Количество вакансий\"\n",
        "FROM industries i\n",
        "LEFT JOIN employers_industries ei ON i.id = ei.industry_id\n",
        "LEFT JOIN vacancies v ON ei.employer_id = v.employer_id\n",
        "GROUP BY i.name\n",
        "ORDER BY COUNT(v.id) DESC\n",
        "LIMIT 3\n",
        "'''\n",
        "\n",
        "df =pd.read_sql_query(sqlalchemy.text(query_7_1), connection)\n",
        "df"
      ]
    },
    {
      "attachments": {},
      "cell_type": "markdown",
      "id": "10f7b20b",
      "metadata": {},
      "source": [
        "7.2 Проведём анализ количества работодателей по сферам деятельности. Выведем ТОП-3 сфер деятельности по количеству работодателей."
      ]
    },
    {
      "cell_type": "code",
      "execution_count": 36,
      "id": "99fa21c2",
      "metadata": {},
      "outputs": [
        {
          "data": {
            "text/html": [
              "<div>\n",
              "<style scoped>\n",
              "    .dataframe tbody tr th:only-of-type {\n",
              "        vertical-align: middle;\n",
              "    }\n",
              "\n",
              "    .dataframe tbody tr th {\n",
              "        vertical-align: top;\n",
              "    }\n",
              "\n",
              "    .dataframe thead th {\n",
              "        text-align: right;\n",
              "    }\n",
              "</style>\n",
              "<table border=\"1\" class=\"dataframe\">\n",
              "  <thead>\n",
              "    <tr style=\"text-align: right;\">\n",
              "      <th></th>\n",
              "      <th>Сфера деятельности</th>\n",
              "      <th>Количество работодателей</th>\n",
              "    </tr>\n",
              "  </thead>\n",
              "  <tbody>\n",
              "    <tr>\n",
              "      <th>0</th>\n",
              "      <td>Разработка программного обеспечения</td>\n",
              "      <td>3553</td>\n",
              "    </tr>\n",
              "    <tr>\n",
              "      <th>1</th>\n",
              "      <td>Системная интеграция,  автоматизации технологи...</td>\n",
              "      <td>2993</td>\n",
              "    </tr>\n",
              "    <tr>\n",
              "      <th>2</th>\n",
              "      <td>Интернет-компания (поисковики, платежные систе...</td>\n",
              "      <td>1675</td>\n",
              "    </tr>\n",
              "  </tbody>\n",
              "</table>\n",
              "</div>"
            ],
            "text/plain": [
              "                                  Сфера деятельности  Количество работодателей\n",
              "0                Разработка программного обеспечения                      3553\n",
              "1  Системная интеграция,  автоматизации технологи...                      2993\n",
              "2  Интернет-компания (поисковики, платежные систе...                      1675"
            ]
          },
          "execution_count": 36,
          "metadata": {},
          "output_type": "execute_result"
        }
      ],
      "source": [
        "query_7_2 = f'''SELECT\n",
        "    i.name AS \"Сфера деятельности\",\n",
        "    COUNT(DISTINCT ei.employer_id) AS \"Количество работодателей\"\n",
        "FROM employers_industries ei\n",
        "JOIN industries i ON ei.industry_id = i.id\n",
        "GROUP BY i.name\n",
        "ORDER BY COUNT(DISTINCT ei.employer_id) DESC\n",
        "LIMIT 3\n",
        "'''\n",
        "\n",
        "df =pd.read_sql_query(sqlalchemy.text(query_7_2), connection)\n",
        "df"
      ]
    },
    {
      "cell_type": "code",
      "execution_count": null,
      "id": "419dd4d5",
      "metadata": {},
      "outputs": [],
      "source": [
        "#закрываем соединение после окончания работы\n",
        "connection.close()"
      ]
    },
    {
      "attachments": {},
      "cell_type": "markdown",
      "id": "2aa199e1",
      "metadata": {},
      "source": [
        "### Выводы по дополнительным исследованиям:\n",
        "- Сфера деятельности \"Разработка программного обеспечения\" имеет наибольшее количество вакансий (12499) и наибольшее количество работодателей (3553). Это указывает на высокий спрос на специалистов в этой области и наличие множества компаний, занимающихся разработкой программного обеспечения.\n",
        "- Сфера деятельности \"Системная интеграция, автоматизации технологий\" также имеет значительное количество вакансий (11034) и работодателей (2993). Это говорит о том, что автоматизация технологических процессов и системная интеграция являются востребованными и перспективными областями.\n",
        "- Сфера деятельности \"Интернет-компания (поисковики, платежные системы и другие)\" имеет меньшее количество вакансий (6413) и работодателей (1675) по сравнению с предыдущими двумя сферами. Однако она все равно представляет собой значительную долю рынка труда и может предоставлять интересные возможности для трудоустройства."
      ]
    },
    {
      "attachments": {},
      "cell_type": "markdown",
      "id": "53bcc04e",
      "metadata": {},
      "source": [
        "## Общий вывод по проекту:\n",
        "- Выборка содержит 49197 вакансий, представлен 23501 работодатель, содержится информация о 1362 регионах по 294 сферам деятельности.\n",
        "- Лидерами по количеству вакансий являются мегаполисы, выделяя их значимость на рынке труда и развитость как центров бизнеса и экономики.\n",
        "- Среднее значение для нижней зарплатной вилки составляет 71065, а для верхней зарплатной вилки - 110537.\n",
        "- Опыт работы от 1 года до 3 лет является наиболее востребованным.\n",
        "- Полная занятость является наиболее популярным типом занятости.\n",
        "- Компания \"Яндекс\" занимает первое место по количеству вакансий - 1933.\n",
        "- Полная занятость является наиболее популярным типом занятости.\n",
        "- Количество вакансий, связанных с работой с данными, составляет 1771. Количество вакансий, где Python указывается в качестве ключевого навыка, составляет 351. Среднее количество ключевых навыков для дата-сайентиста составляет более 6, при этом соискатель может расчитывать в среднем на зарплату в 243115 руб.\n",
        "- Сфера деятельности \"Разработка программного обеспечения\" имеет наибольшее количество вакансий - 12499 и наибольшее количество работодателей - 3553."
      ]
    }
  ],
  "metadata": {
    "colab": {
      "collapsed_sections": [],
      "provenance": []
    },
    "kernelspec": {
      "display_name": "Python 3 (ipykernel)",
      "language": "python",
      "name": "python3"
    },
    "language_info": {
      "codemirror_mode": {
        "name": "ipython",
        "version": 3
      },
      "file_extension": ".py",
      "mimetype": "text/x-python",
      "name": "python",
      "nbconvert_exporter": "python",
      "pygments_lexer": "ipython3",
      "version": "3.11.3"
    }
  },
  "nbformat": 4,
  "nbformat_minor": 5
}
